{
 "cells": [
  {
   "cell_type": "code",
   "execution_count": 1,
   "metadata": {},
   "outputs": [],
   "source": [
    "import pandas as pd\n",
    "import numpy as np\n",
    "from sklearn.preprocessing import MinMaxScaler\n",
    "from sklearn.preprocessing import StandardScaler\n",
    "from sklearn import ensemble\n",
    "from sklearn.utils import shuffle\n",
    "from sklearn.metrics import mean_squared_error\n",
    "from sklearn.metrics import r2_score\n",
    "from sklearn.model_selection import train_test_split\n",
    "from sklearn.multioutput import MultiOutputRegressor\n",
    "from sklearn.ensemble import RandomForestRegressor\n",
    "from matplotlib import pyplot as plt"
   ]
  },
  {
   "cell_type": "code",
   "execution_count": 2,
   "metadata": {},
   "outputs": [],
   "source": [
    "def find_nearest(array,value):\n",
    "    idx = (np.abs(array-value)).argmin()\n",
    "    \n",
    "    return array[idx]"
   ]
  },
  {
   "cell_type": "code",
   "execution_count": 3,
   "metadata": {},
   "outputs": [],
   "source": [
    "def refine_data(arr1,arr2,arr3):\n",
    "    refined_data = []\n",
    "    for i in range(arr1.shape[0]):\n",
    "        rt = find_nearest(arr1[i],arr3[i])\n",
    "        refined_data.append(rt.round(3))\n",
    "        \n",
    "    refined_data = np.array(refined_data)\n",
    "    \n",
    "    return refined_data"
   ]
  },
  {
   "cell_type": "code",
   "execution_count": 4,
   "metadata": {},
   "outputs": [],
   "source": [
    "def get_metrics(arr1,arr2):\n",
    "    mse = mean_squared_error(arr1,arr2)\n",
    "    r2 = r2_score(arr1,arr2)\n",
    "    return mse,r2"
   ]
  },
  {
   "cell_type": "code",
   "execution_count": null,
   "metadata": {
    "scrolled": true
   },
   "outputs": [],
   "source": [
    "X = pd.read_csv('X_data_t3',sep = ',')\n",
    "y = pd.read_csv('y_data',sep = ',')\n",
    "time = np.array(pd.read_csv('time',sep = ',',header = None).dropna(axis = 'columns'))\n",
    "abundance = np.array(pd.read_csv('abundance',sep = ',',header = None).dropna(axis = 'columns'))\n",
    "baseline = np.array(pd.read_csv('baseline',sep = ',',header = None).dropna(axis = 'columns'))"
   ]
  },
  {
   "cell_type": "code",
   "execution_count": null,
   "metadata": {
    "scrolled": true
   },
   "outputs": [],
   "source": [
    "X,y,time,abundance,baseline = shuffle(X,y,time,abundance,baseline)"
   ]
  },
  {
   "cell_type": "code",
   "execution_count": null,
   "metadata": {},
   "outputs": [],
   "source": [
    "Xleft = np.array(X[['maxRT_t','x_start_t','diff_start']])\n",
    "Xright = np.array(X[['maxRT_t','x_end_t','diff_end']])\n",
    "#Xleft = np.array(X[['maxRT_t','maxRT_ab','maxRT_baseline','x_start_t','x_start_ab']])\n",
    "#Xright = np.array(X[['maxRT_t','maxRT_ab','maxRT_baseline','x_end_t','x_end_ab']])\n",
    "\n",
    "#Xleft = np.array(X[['maxRT_t','maxRT_ab','x_start_t','x_start_ab','diff_start']])\n",
    "#Xright = np.array(X[['maxRT_t','maxRT_ab','x_end_t','x_end_ab','diff_end']])"
   ]
  },
  {
   "cell_type": "code",
   "execution_count": null,
   "metadata": {},
   "outputs": [],
   "source": [
    "yleft = np.array(y['y_left_t'])\n",
    "yright = np.array(y['y_right_t'])"
   ]
  },
  {
   "cell_type": "code",
   "execution_count": null,
   "metadata": {},
   "outputs": [],
   "source": [
    "scaler_left = MinMaxScaler(feature_range = (0,1))\n",
    "Xleft = scaler_left.fit_transform(Xleft)\n",
    "\n",
    "scaler_right = MinMaxScaler(feature_range = (0,1))\n",
    "Xright = scaler_right.fit_transform(Xright)"
   ]
  },
  {
   "cell_type": "code",
   "execution_count": null,
   "metadata": {},
   "outputs": [
    {
     "data": {
      "text/plain": [
       "array([[0.50684932, 1.        , 0.94237288],\n",
       "       [0.7260274 , 1.        , 0.91525424],\n",
       "       [0.50684932, 1.        , 0.94237288],\n",
       "       ...,\n",
       "       [0.54794521, 1.        , 0.93728814],\n",
       "       [0.45205479, 1.        , 0.94915254],\n",
       "       [0.04109589, 0.01180438, 0.00677966]])"
      ]
     },
     "execution_count": 10,
     "metadata": {},
     "output_type": "execute_result"
    }
   ],
   "source": [
    "Xright"
   ]
  },
  {
   "cell_type": "code",
   "execution_count": null,
   "metadata": {},
   "outputs": [],
   "source": [
    "test_size = 0.05\n",
    "random_state = 42\n",
    "\n",
    "Xleft_train,Xleft_test,yleft_train,yleft_test,tleft_train,tleft_test,aleft_train,aleft_test = train_test_split(Xleft,yleft,time,abundance,test_size=test_size,random_state=random_state)\n",
    "Xright_train,Xright_test,yright_train,yright_test,tright_train,tright_test,aright_train,aright_test = train_test_split(Xright,yright,time,abundance,test_size=test_size,random_state=random_state)"
   ]
  },
  {
   "cell_type": "code",
   "execution_count": null,
   "metadata": {},
   "outputs": [],
   "source": [
    "n_estimators = np.linspace(1000000,2000000,2,dtype=int)\n",
    "max_depth = np.linspace(100000,200000,2,dtype=int)\n",
    "\n",
    "mse_left,r2_left = [[] for i in range(len(n_estimators))], [[] for i in range(len(n_estimators))]\n",
    "mse_right,r2_right = [[] for i in range(len(n_estimators))], [[] for i in range(len(n_estimators))]\n",
    "yleft_, yright_ = [[] for i in range(len(n_estimators))], [[] for i in range(len(n_estimators))]\n",
    "\n",
    "for i in range(len(n_estimators)):\n",
    "    for j in range(len(max_depth)):\n",
    "\n",
    "        params = {'n_estimators': n_estimators[i], 'max_depth': max_depth[j], 'min_samples_split': 5,\n",
    "                 'learning_rate': 0.01, 'loss': 'ls'}\n",
    "\n",
    "        clf_left = ensemble.GradientBoostingRegressor(**params)\n",
    "        clf_right = ensemble.GradientBoostingRegressor(**params)\n",
    "\n",
    "        clf_left.fit(Xleft_train,yleft_train)\n",
    "        clf_right.fit(Xright_train,yright_train)\n",
    "\n",
    "        yleft_predict = clf_left.predict(Xleft_test).round(3)\n",
    "        yright_predict = clf_right.predict(Xright_test).round(3)\n",
    "\n",
    "        yleft_refined = refine_data(tleft_test,aleft_test,yleft_predict)\n",
    "        yright_refined = refine_data(tright_test,aright_test,yright_predict)\n",
    "           \n",
    "        mse_1,r2_1 = get_metrics(yleft_test,yleft_predict)\n",
    "        mse_2,r2_2 = get_metrics(yright_test,yright_predict)\n",
    "    \n",
    "    \n",
    "        mse_left[i].append(mse_1)\n",
    "        r2_left[i].append(r2_1)\n",
    "\n",
    "        mse_right[i].append(mse_2)\n",
    "        r2_right[i].append(r2_2)\n",
    "\n",
    "        yleft_[i].append(yleft_refined)\n",
    "        yright_[i].append(yright_refined)\n",
    "\n",
    "yleft_ = np.array(yleft_)\n",
    "yright_ = np.array(yright_)\n",
    "    \n",
    "mse_left = np.array(mse_left)\n",
    "mse_right = np.array(mse_right)\n",
    "\n",
    "r2_left = np.array(r2_left)\n",
    "r2_right = np.array(r2_right)"
   ]
  },
  {
   "cell_type": "code",
   "execution_count": null,
   "metadata": {},
   "outputs": [],
   "source": [
    "r2_left"
   ]
  },
  {
   "cell_type": "code",
   "execution_count": null,
   "metadata": {},
   "outputs": [],
   "source": [
    "r2_right"
   ]
  },
  {
   "cell_type": "code",
   "execution_count": null,
   "metadata": {},
   "outputs": [],
   "source": [
    "mse_left"
   ]
  },
  {
   "cell_type": "code",
   "execution_count": null,
   "metadata": {},
   "outputs": [],
   "source": [
    "mse_right"
   ]
  },
  {
   "cell_type": "code",
   "execution_count": null,
   "metadata": {},
   "outputs": [],
   "source": [
    "yleft_[1][1]"
   ]
  },
  {
   "cell_type": "code",
   "execution_count": null,
   "metadata": {},
   "outputs": [],
   "source": [
    "yleft_test"
   ]
  },
  {
   "cell_type": "code",
   "execution_count": null,
   "metadata": {},
   "outputs": [],
   "source": []
  }
 ],
 "metadata": {
  "kernelspec": {
   "display_name": "Python 3",
   "language": "python",
   "name": "python3"
  },
  "language_info": {
   "codemirror_mode": {
    "name": "ipython",
    "version": 3
   },
   "file_extension": ".py",
   "mimetype": "text/x-python",
   "name": "python",
   "nbconvert_exporter": "python",
   "pygments_lexer": "ipython3",
   "version": "3.6.6"
  }
 },
 "nbformat": 4,
 "nbformat_minor": 2
}
