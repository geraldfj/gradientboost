{
 "cells": [
  {
   "cell_type": "code",
   "execution_count": 1,
   "metadata": {},
   "outputs": [],
   "source": [
    "import pandas as pd\n",
    "import numpy as np\n",
    "from sklearn.preprocessing import MinMaxScaler\n",
    "from sklearn.preprocessing import StandardScaler\n",
    "from sklearn import ensemble\n",
    "from sklearn.utils import shuffle\n",
    "from sklearn.metrics import mean_squared_error\n",
    "from sklearn.metrics import r2_score\n",
    "from sklearn.model_selection import train_test_split\n",
    "from matplotlib import pyplot as plt\n",
    "from sklearn.model_selection import cross_val_score"
   ]
  },
  {
   "cell_type": "code",
   "execution_count": 2,
   "metadata": {},
   "outputs": [],
   "source": [
    "def find_nearest(array,value):\n",
    "    idx = (np.abs(array-value)).argmin()\n",
    "    \n",
    "    return array[idx]"
   ]
  },
  {
   "cell_type": "code",
   "execution_count": 3,
   "metadata": {},
   "outputs": [],
   "source": [
    "def refine_data(arr1,arr2,arr3):\n",
    "    refined_data = []\n",
    "    for i in range(arr1.shape[0]):\n",
    "        rt = find_nearest(arr1[i],arr3[i])\n",
    "        refined_data.append(rt.round(3))\n",
    "        \n",
    "    refined_data = np.array(refined_data)\n",
    "    \n",
    "    return refined_data"
   ]
  },
  {
   "cell_type": "code",
   "execution_count": 4,
   "metadata": {},
   "outputs": [],
   "source": [
    "def get_metrics(arr1,arr2):\n",
    "    mse = mean_squared_error(arr1,arr2)\n",
    "    r2 = r2_score(arr1,arr2)\n",
    "    return mse,r2"
   ]
  },
  {
   "cell_type": "code",
   "execution_count": 5,
   "metadata": {
    "scrolled": true
   },
   "outputs": [],
   "source": [
    "d1 = pd.read_csv('X_data_t1',sep = ',')\n",
    "d2 = pd.read_csv('y_data',sep = ',')\n",
    "d3 = pd.concat([d1,d2],axis=1)\n",
    "\n",
    "#data = d3.loc[d3['maxRT_ab'] < 9e6]\n",
    "#d3 = shuffle(d3)\n",
    "\n",
    "#X = np.array(d3[['maxRT_t','x_start_t','diff_start','diff_end']])\n",
    "#X = np.array(d3[['maxRT_ab','maxRT_baseline','x_start_ab','x_end_ab']])\n",
    "#X = np.array(d3[['maxRT_t','maxRT_ab','maxRT_baseline','x_start_ab','x_end_ab']])\n",
    "X = np.array(d3[['maxRT_t','maxRT_ab','maxRT_baseline','x_start_t','x_start_ab','diff_start','x_end_t','x_end_ab','diff_end']])\n",
    "\n",
    "y = np.array(d3['y_right_t'])\n",
    "\n",
    "time = np.array(pd.read_csv('time',sep = ',',header = None).dropna(axis = 'columns'))\n",
    "abundance = np.array(pd.read_csv('abundance',sep = ',',header = None).dropna(axis = 'columns'))\n",
    "baseline = np.array(pd.read_csv('baseline',sep = ',',header = None).dropna(axis = 'columns'))"
   ]
  },
  {
   "cell_type": "code",
   "execution_count": 6,
   "metadata": {},
   "outputs": [],
   "source": [
    "X_train,X_test,y_train,y_test = train_test_split(X,y,test_size=0.2,random_state=42)"
   ]
  },
  {
   "cell_type": "code",
   "execution_count": 7,
   "metadata": {},
   "outputs": [],
   "source": [
    "scaler_train = MinMaxScaler()\n",
    "#scaler_train = StandardScaler()\n",
    "scaler_train.fit(X_train)\n",
    "X_train =scaler_train.transform(X_train)\n",
    "\n",
    "scaler_test = MinMaxScaler()\n",
    "#scaler_test = StandardScaler()\n",
    "scaler_test.fit(X_test)\n",
    "X_test = scaler_test.transform(X_test)"
   ]
  },
  {
   "cell_type": "code",
   "execution_count": 8,
   "metadata": {},
   "outputs": [
    {
     "name": "stdout",
     "output_type": "stream",
     "text": [
      "[0.54748421 0.71717573 0.63338998 0.50394602 0.67820279]\n",
      "0.009954235294117639 0.5679944705675736\n"
     ]
    }
   ],
   "source": [
    "n_estimators = np.linspace(1000,1000,1,dtype=int)\n",
    "max_depth = np.linspace(1000,1000,1,dtype=int)\n",
    "random_state = 1000\n",
    "\n",
    "mse,r2 = [[] for i in range(len(n_estimators))], [[] for i in range(len(n_estimators))]\n",
    "y_ = [[] for i in range(len(n_estimators))]\n",
    "\n",
    "for i in range(len(n_estimators)):\n",
    "    for j in range(len(max_depth)):\n",
    "\n",
    "        params = {'n_estimators': n_estimators[i], 'max_depth': max_depth[j], 'min_samples_split': 10,\n",
    "                 'learning_rate': 0.1, 'loss': 'lad'}\n",
    "\n",
    "        clf = ensemble.GradientBoostingRegressor(**params)\n",
    "        scores = cross_val_score(clf, X_train, y_train, cv=5)\n",
    "        print(scores)\n",
    "        clf.fit(X_train,y_train)\n",
    "        y_predict = clf.predict(X_test).round(3)\n",
    "             \n",
    "        mse_1,r2_1 = get_metrics(y_test,y_predict)\n",
    "        \n",
    "        print(mse_1,r2_1)\n",
    "\n"
   ]
  },
  {
   "cell_type": "code",
   "execution_count": 9,
   "metadata": {},
   "outputs": [
    {
     "data": {
      "text/plain": [
       "array([1.717, 1.367, 1.223, 1.36 , 1.757, 1.46 , 1.707, 1.37 , 1.507,\n",
       "       1.713, 1.707, 1.243, 1.69 , 1.44 , 1.66 , 1.703, 1.457, 1.68 ,\n",
       "       1.703, 1.503, 1.447, 1.723, 1.3  , 1.557, 1.5  , 1.443, 1.7  ,\n",
       "       1.663, 1.72 , 1.707, 1.697, 1.38 , 1.737, 1.703, 1.437, 1.293,\n",
       "       1.703, 1.557, 1.737, 1.397, 1.7  , 1.7  , 1.307, 1.45 , 1.507,\n",
       "       1.64 , 1.477, 1.383, 1.64 , 1.577, 1.677, 1.553, 1.7  , 1.503,\n",
       "       1.737, 1.61 , 1.7  , 1.433, 1.713, 1.703, 1.753, 1.717, 1.7  ,\n",
       "       1.747, 1.397, 1.657, 1.5  , 1.703, 1.307, 1.7  , 1.45 , 1.4  ,\n",
       "       1.473, 1.273, 1.44 , 1.513, 1.697, 1.69 , 1.72 , 1.53 , 1.72 ,\n",
       "       1.707, 1.323, 1.587, 1.41 ])"
      ]
     },
     "execution_count": 9,
     "metadata": {},
     "output_type": "execute_result"
    }
   ],
   "source": [
    "y_test"
   ]
  },
  {
   "cell_type": "code",
   "execution_count": 10,
   "metadata": {},
   "outputs": [
    {
     "data": {
      "text/plain": [
       "array([1.709, 1.378, 1.277, 1.301, 1.505, 1.595, 1.702, 1.589, 1.506,\n",
       "       1.707, 1.699, 1.284, 1.683, 1.452, 1.637, 1.502, 1.626, 1.771,\n",
       "       1.701, 1.62 , 1.374, 1.703, 1.38 , 1.494, 1.485, 1.327, 1.707,\n",
       "       1.582, 1.702, 1.711, 1.506, 1.486, 1.619, 1.699, 1.501, 1.276,\n",
       "       1.702, 1.55 , 1.646, 1.377, 1.71 , 1.703, 1.299, 1.475, 1.483,\n",
       "       1.481, 1.577, 1.351, 1.496, 1.684, 1.509, 1.486, 1.718, 1.513,\n",
       "       1.467, 1.621, 1.506, 1.463, 1.691, 1.714, 1.669, 1.708, 1.703,\n",
       "       1.685, 1.437, 1.493, 1.479, 1.702, 1.315, 1.714, 1.49 , 1.476,\n",
       "       1.495, 1.318, 1.553, 1.643, 1.487, 1.667, 1.505, 1.482, 1.496,\n",
       "       1.483, 1.305, 1.473, 1.466])"
      ]
     },
     "execution_count": 10,
     "metadata": {},
     "output_type": "execute_result"
    }
   ],
   "source": [
    "y_predict"
   ]
  },
  {
   "cell_type": "code",
   "execution_count": 11,
   "metadata": {},
   "outputs": [
    {
     "name": "stdout",
     "output_type": "stream",
     "text": [
      "[-0.00937758 -0.00949318 -0.00988265 -0.01024701 -0.00913736]\n",
      "0.04348947058823531 -0.8874068385051073\n"
     ]
    }
   ],
   "source": [
    "from sklearn.decomposition.pca import PCA\n",
    "from sklearn.preprocessing import scale\n",
    "pca = PCA()\n",
    "X_reduced = pca.fit_transform(X_train)\n",
    "scores = cross_val_score(clf, X_reduced, y_train, cv=5, scoring = 'neg_mean_squared_error')\n",
    "print(scores)\n",
    "clf.fit(X_reduced,y_train)\n",
    "y_predict = clf.predict(X_test).round(3)\n",
    "mse_1,r2_1 = get_metrics(y_test,y_predict)\n",
    "        \n",
    "print(mse_1,r2_1)\n"
   ]
  },
  {
   "cell_type": "code",
   "execution_count": 12,
   "metadata": {},
   "outputs": [
    {
     "data": {
      "text/plain": [
       "array([1.554, 1.714, 1.703, 1.702, 1.705, 1.696, 1.554, 1.694, 1.699,\n",
       "       1.7  , 1.715, 1.696, 1.702, 1.698, 1.697, 1.703, 1.696, 1.697,\n",
       "       1.713, 1.696, 1.716, 1.71 , 1.697, 1.712, 1.701, 1.7  , 1.701,\n",
       "       1.7  , 1.558, 1.542, 1.716, 1.715, 1.7  , 1.715, 1.699, 1.716,\n",
       "       1.713, 1.696, 1.702, 1.7  , 1.559, 1.712, 1.701, 1.699, 1.712,\n",
       "       1.703, 1.701, 1.716, 1.698, 1.696, 1.699, 1.714, 1.713, 1.702,\n",
       "       1.703, 1.712, 1.718, 1.7  , 1.709, 1.555, 1.707, 1.703, 1.558,\n",
       "       1.71 , 1.711, 1.697, 1.698, 1.713, 1.703, 1.552, 1.698, 1.698,\n",
       "       1.698, 1.697, 1.699, 1.696, 1.698, 1.696, 1.706, 1.699, 1.714,\n",
       "       1.7  , 1.696, 1.7  , 1.699])"
      ]
     },
     "execution_count": 12,
     "metadata": {},
     "output_type": "execute_result"
    }
   ],
   "source": [
    "y_predict"
   ]
  },
  {
   "cell_type": "code",
   "execution_count": 13,
   "metadata": {},
   "outputs": [
    {
     "data": {
      "text/plain": [
       "array([1.717, 1.367, 1.223, 1.36 , 1.757, 1.46 , 1.707, 1.37 , 1.507,\n",
       "       1.713, 1.707, 1.243, 1.69 , 1.44 , 1.66 , 1.703, 1.457, 1.68 ,\n",
       "       1.703, 1.503, 1.447, 1.723, 1.3  , 1.557, 1.5  , 1.443, 1.7  ,\n",
       "       1.663, 1.72 , 1.707, 1.697, 1.38 , 1.737, 1.703, 1.437, 1.293,\n",
       "       1.703, 1.557, 1.737, 1.397, 1.7  , 1.7  , 1.307, 1.45 , 1.507,\n",
       "       1.64 , 1.477, 1.383, 1.64 , 1.577, 1.677, 1.553, 1.7  , 1.503,\n",
       "       1.737, 1.61 , 1.7  , 1.433, 1.713, 1.703, 1.753, 1.717, 1.7  ,\n",
       "       1.747, 1.397, 1.657, 1.5  , 1.703, 1.307, 1.7  , 1.45 , 1.4  ,\n",
       "       1.473, 1.273, 1.44 , 1.513, 1.697, 1.69 , 1.72 , 1.53 , 1.72 ,\n",
       "       1.707, 1.323, 1.587, 1.41 ])"
      ]
     },
     "execution_count": 13,
     "metadata": {},
     "output_type": "execute_result"
    }
   ],
   "source": [
    "y_test"
   ]
  },
  {
   "cell_type": "code",
   "execution_count": 14,
   "metadata": {},
   "outputs": [
    {
     "data": {
      "text/plain": [
       "array([87.48, 94.55, 97.17, 99.1 , 99.92, 99.99, 99.99, 99.99, 99.99])"
      ]
     },
     "execution_count": 14,
     "metadata": {},
     "output_type": "execute_result"
    }
   ],
   "source": [
    "np.cumsum(np.round(pca.explained_variance_ratio_, decimals=4)*100)"
   ]
  },
  {
   "cell_type": "code",
   "execution_count": null,
   "metadata": {},
   "outputs": [],
   "source": []
  }
 ],
 "metadata": {
  "kernelspec": {
   "display_name": "Python 3",
   "language": "python",
   "name": "python3"
  },
  "language_info": {
   "codemirror_mode": {
    "name": "ipython",
    "version": 3
   },
   "file_extension": ".py",
   "mimetype": "text/x-python",
   "name": "python",
   "nbconvert_exporter": "python",
   "pygments_lexer": "ipython3",
   "version": "3.6.6"
  }
 },
 "nbformat": 4,
 "nbformat_minor": 2
}
