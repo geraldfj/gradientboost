{
 "cells": [
  {
   "cell_type": "code",
   "execution_count": 1,
   "metadata": {},
   "outputs": [],
   "source": [
    "import pandas as pd\n",
    "import numpy as np\n",
    "from sklearn.preprocessing import MinMaxScaler\n",
    "from sklearn.preprocessing import StandardScaler\n",
    "from sklearn import ensemble\n",
    "from sklearn.utils import shuffle\n",
    "from sklearn.metrics import mean_squared_error\n",
    "from sklearn.metrics import r2_score\n",
    "from sklearn.model_selection import train_test_split\n",
    "from matplotlib import pyplot as plt\n",
    "from sklearn.model_selection import cross_val_score"
   ]
  },
  {
   "cell_type": "code",
   "execution_count": 2,
   "metadata": {},
   "outputs": [],
   "source": [
    "def find_nearest(array,value):\n",
    "    idx = (np.abs(array-value)).argmin()\n",
    "    \n",
    "    return array[idx]"
   ]
  },
  {
   "cell_type": "code",
   "execution_count": 3,
   "metadata": {},
   "outputs": [],
   "source": [
    "def refine_data(arr1,arr2,arr3):\n",
    "    refined_data = []\n",
    "    for i in range(arr1.shape[0]):\n",
    "        rt = find_nearest(arr1[i],arr3[i])\n",
    "        refined_data.append(rt.round(3))\n",
    "        \n",
    "    refined_data = np.array(refined_data)\n",
    "    \n",
    "    return refined_data"
   ]
  },
  {
   "cell_type": "code",
   "execution_count": 4,
   "metadata": {},
   "outputs": [],
   "source": [
    "def get_metrics(arr1,arr2):\n",
    "    mse = mean_squared_error(arr1,arr2)\n",
    "    r2 = r2_score(arr1,arr2)\n",
    "    return mse,r2"
   ]
  },
  {
   "cell_type": "code",
   "execution_count": 5,
   "metadata": {
    "scrolled": true
   },
   "outputs": [],
   "source": [
    "d1 = pd.read_csv('X_data_t3',sep = ',')\n",
    "d2 = pd.read_csv('y_data',sep = ',')\n",
    "d3 = pd.concat([d1,d2],axis=1)\n",
    "\n",
    "#data = d3.loc[d3['maxRT_ab'] < 9e6]\n",
    "#d3 = shuffle(d3)\n",
    "\n",
    "#X = np.array(d3[['maxRT_t','x_start_t','diff_start','diff_end']])\n",
    "#X = np.array(d3[['maxRT_ab','maxRT_baseline','x_start_ab','x_end_ab']])\n",
    "#X = np.array(d3[['maxRT_t','maxRT_ab','maxRT_baseline','x_start_ab','x_end_ab']])\n",
    "#X = np.array(d3[['maxRT_t','maxRT_ab','maxRT_baseline','x_start_t','x_start_ab','diff_start','x_end_t','x_end_ab','diff_end']])\n",
    "\n",
    "#X = np.array(d3[['rt','maxRT_t','maxRT_ab','maxRT_base','x_start_t','x_start_ab','diff_start','x_end_t',\n",
    "#                'x_end_ab','diff_end','width']])\n",
    "\n",
    "X = np.array(d3[['rt','maxRT_t','x_start_t','diff_start','x_end_t','diff_end','width']])\n",
    "\n",
    "y = np.array(d3['y_left_t'])\n",
    "\n",
    "time = np.array(pd.read_csv('time',sep = ',',header = None).dropna(axis = 'columns'))\n",
    "abundance = np.array(pd.read_csv('abundance',sep = ',',header = None).dropna(axis = 'columns'))\n",
    "baseline = np.array(pd.read_csv('baseline',sep = ',',header = None).dropna(axis = 'columns'))"
   ]
  },
  {
   "cell_type": "code",
   "execution_count": 6,
   "metadata": {},
   "outputs": [],
   "source": [
    "X_train,X_test,y_train,y_test = train_test_split(X,y,test_size=0.2,random_state=42)"
   ]
  },
  {
   "cell_type": "code",
   "execution_count": 7,
   "metadata": {},
   "outputs": [],
   "source": [
    "scaler_train = MinMaxScaler()\n",
    "#scaler_train = StandardScaler()\n",
    "scaler_train.fit(X_train)\n",
    "X_train =scaler_train.transform(X_train)\n",
    "\n",
    "scaler_test = MinMaxScaler()\n",
    "#scaler_test = StandardScaler()\n",
    "scaler_test.fit(X_test)\n",
    "X_test = scaler_test.transform(X_test)"
   ]
  },
  {
   "cell_type": "code",
   "execution_count": 8,
   "metadata": {},
   "outputs": [
    {
     "name": "stdout",
     "output_type": "stream",
     "text": [
      "[0.14355469 0.2154058  0.30670447 0.17620917 0.43836956]\n",
      "0.00024558823529411745 0.02390272776382507\n"
     ]
    }
   ],
   "source": [
    "n_estimators = 5000\n",
    "max_depth = 5000\n",
    "random_state = 500\n",
    "\n",
    "params = {'n_estimators': n_estimators, 'max_depth': max_depth, 'min_samples_split': 10,\n",
    "                 'learning_rate': 0.1, 'loss': 'lad'}\n",
    "\n",
    "clf = ensemble.GradientBoostingRegressor(**params)\n",
    "scores = cross_val_score(clf, X_train, y_train, cv=5)\n",
    "print(scores)\n",
    "clf.fit(X_train,y_train)\n",
    "y_predict = clf.predict(X_test).round(3)\n",
    "             \n",
    "mse_1,r2_1 = get_metrics(y_test,y_predict)\n",
    "        \n",
    "print(mse_1,r2_1)\n",
    "\n"
   ]
  },
  {
   "cell_type": "code",
   "execution_count": 9,
   "metadata": {},
   "outputs": [
    {
     "data": {
      "text/plain": [
       "array([0.98 , 0.99 , 1.003, 1.013, 1.   , 0.993, 0.98 , 1.007, 0.983,\n",
       "       0.987, 0.98 , 1.013, 1.003, 1.017, 0.997, 0.99 , 0.953, 1.   ,\n",
       "       0.98 , 0.983, 0.97 , 0.983, 1.017, 0.997, 0.99 , 1.013, 0.993,\n",
       "       0.997, 0.973, 0.98 , 0.973, 0.997, 0.97 , 0.98 , 0.993, 1.007,\n",
       "       0.977, 0.983, 0.977, 0.983, 0.983, 0.98 , 0.98 , 0.983, 1.   ,\n",
       "       0.967, 0.997, 1.017, 0.957, 0.98 , 0.993, 1.   , 0.987, 0.983,\n",
       "       0.997, 1.01 , 0.953, 1.007, 0.987, 0.983, 0.983, 0.983, 0.983,\n",
       "       0.983, 1.02 , 0.987, 0.963, 0.98 , 1.017, 0.973, 0.987, 0.963,\n",
       "       1.003, 1.007, 0.997, 0.937, 0.987, 0.987, 0.997, 0.993, 0.98 ,\n",
       "       0.977, 1.013, 0.977, 0.987])"
      ]
     },
     "execution_count": 9,
     "metadata": {},
     "output_type": "execute_result"
    }
   ],
   "source": [
    "y_test"
   ]
  },
  {
   "cell_type": "code",
   "execution_count": 10,
   "metadata": {},
   "outputs": [
    {
     "data": {
      "text/plain": [
       "array([0.987, 0.995, 0.987, 1.001, 1.004, 0.995, 0.98 , 1.001, 1.001,\n",
       "       0.984, 0.987, 0.989, 1.004, 1.005, 0.981, 0.987, 1.001, 0.997,\n",
       "       0.982, 0.995, 0.989, 0.98 , 0.995, 1.001, 0.981, 1.001, 0.991,\n",
       "       1.001, 0.981, 0.981, 0.989, 0.987, 0.989, 0.987, 0.987, 1.001,\n",
       "       0.982, 1.001, 0.977, 0.989, 0.981, 0.987, 1.001, 0.995, 0.995,\n",
       "       0.989, 0.996, 1.004, 0.989, 0.989, 1.001, 0.995, 0.984, 0.989,\n",
       "       0.995, 1.017, 0.989, 1.005, 0.981, 0.983, 0.989, 0.99 , 0.983,\n",
       "       0.989, 1.014, 0.989, 0.995, 0.985, 0.987, 0.983, 0.995, 1.004,\n",
       "       1.001, 0.995, 0.995, 1.001, 0.995, 0.995, 0.995, 0.995, 1.001,\n",
       "       0.995, 0.987, 0.995, 0.995])"
      ]
     },
     "execution_count": 10,
     "metadata": {},
     "output_type": "execute_result"
    }
   ],
   "source": [
    "y_predict"
   ]
  },
  {
   "cell_type": "code",
   "execution_count": 11,
   "metadata": {},
   "outputs": [
    {
     "name": "stdout",
     "output_type": "stream",
     "text": [
      "[-0.00033898 -0.00021808 -0.00012696 -0.00020934 -0.00015512]\n",
      "0.00034392941176470434 -0.3669570134875322\n"
     ]
    }
   ],
   "source": [
    "from sklearn.decomposition.pca import PCA\n",
    "from sklearn.preprocessing import scale\n",
    "pca = PCA()\n",
    "X_reduced = pca.fit_transform(X_train)\n",
    "scores = cross_val_score(clf, X_reduced, y_train, cv=5, scoring = 'neg_mean_squared_error')\n",
    "print(scores)\n",
    "clf.fit(X_reduced,y_train)\n",
    "y_predict = clf.predict(X_test).round(3)\n",
    "mse_1,r2_1 = get_metrics(y_test,y_predict)\n",
    "        \n",
    "print(mse_1,r2_1)\n"
   ]
  },
  {
   "cell_type": "code",
   "execution_count": 12,
   "metadata": {},
   "outputs": [
    {
     "data": {
      "text/plain": [
       "array([0.989, 1.001, 1.001, 1.001, 1.001, 1.001, 0.984, 1.001, 1.001,\n",
       "       1.001, 0.986, 1.001, 0.989, 1.001, 1.001, 1.001, 1.001, 0.989,\n",
       "       0.986, 1.001, 1.001, 0.984, 1.001, 1.001, 1.001, 1.001, 1.001,\n",
       "       1.001, 0.985, 0.986, 1.001, 1.001, 1.001, 0.986, 1.001, 1.001,\n",
       "       0.985, 1.001, 0.999, 1.001, 0.985, 0.986, 1.001, 1.001, 1.001,\n",
       "       1.001, 0.991, 1.001, 1.001, 1.001, 1.001, 1.001, 0.984, 1.001,\n",
       "       1.001, 0.986, 1.001, 1.001, 1.001, 0.985, 1.001, 1.003, 0.986,\n",
       "       1.001, 1.001, 1.001, 1.001, 0.985, 1.001, 0.985, 1.001, 1.001,\n",
       "       1.001, 1.001, 1.001, 1.001, 1.001, 1.001, 1.001, 1.001, 1.001,\n",
       "       1.001, 1.001, 1.001, 1.001])"
      ]
     },
     "execution_count": 12,
     "metadata": {},
     "output_type": "execute_result"
    }
   ],
   "source": [
    "y_predict"
   ]
  },
  {
   "cell_type": "code",
   "execution_count": 13,
   "metadata": {},
   "outputs": [
    {
     "data": {
      "text/plain": [
       "array([ 95.72,  98.19, 100.  , 100.  , 100.  , 100.  , 100.  ])"
      ]
     },
     "execution_count": 13,
     "metadata": {},
     "output_type": "execute_result"
    }
   ],
   "source": [
    "np.cumsum(np.round(pca.explained_variance_ratio_, decimals=4)*100)"
   ]
  },
  {
   "cell_type": "code",
   "execution_count": null,
   "metadata": {},
   "outputs": [],
   "source": []
  }
 ],
 "metadata": {
  "kernelspec": {
   "display_name": "Python 3",
   "language": "python",
   "name": "python3"
  },
  "language_info": {
   "codemirror_mode": {
    "name": "ipython",
    "version": 3
   },
   "file_extension": ".py",
   "mimetype": "text/x-python",
   "name": "python",
   "nbconvert_exporter": "python",
   "pygments_lexer": "ipython3",
   "version": "3.6.6"
  }
 },
 "nbformat": 4,
 "nbformat_minor": 2
}
